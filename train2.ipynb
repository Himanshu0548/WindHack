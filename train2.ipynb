{
 "cells": [
  {
   "cell_type": "code",
   "execution_count": 36,
   "metadata": {},
   "outputs": [],
   "source": [
    "from __future__ import print_function\n",
    "import torch, os\n",
    "import torch.nn as nn\n",
    "import torch.optim as optim\n",
    "import numpy as np\n",
    "import pandas as pd\n",
    "import matplotlib\n",
    "matplotlib.use('Agg')\n",
    "import matplotlib.pyplot as plt\n",
    "from catboost import *\n",
    "import plotly.express as px\n",
    "import plotly\n",
    "from sklearn.model_selection import train_test_split\n",
    "from torch.utils.data import TensorDataset, DataLoader\n",
    "%matplotlib inline\n",
    "from catalyst.dl.runner.supervised import SupervisedRunner as Runner"
   ]
  },
  {
   "cell_type": "code",
   "execution_count": 3,
   "metadata": {},
   "outputs": [],
   "source": [
    "def transform_data(arr, seq_len = 10):\n",
    "    x, y = [], []\n",
    "    for i in range(len(arr) - seq_len):\n",
    "        x_i = arr[i : i + seq_len]\n",
    "        y_i = arr[ i + seq_len ]\n",
    "        x.append(x_i)\n",
    "        y.append(y_i)\n",
    "    x_arr = np.array(x).reshape(-1, seq_len)\n",
    "    y_arr = np.array(y).reshape(-1, 1)\n",
    "    x_var = torch.Tensor(x).float()\n",
    "    y_var = torch.Tensor(y).float()\n",
    "    y_var = y_var.view(-1, 1)\n",
    "    return x_var, y_var\n",
    "\n",
    "def ruuning_mean(arr, beta  = 0.9):\n",
    "    for i in range(1, len(arr)):\n",
    "        arr[i] = beta*arr[i] + (1-beta)*arr[i-1]\n",
    "    return arr"
   ]
  },
  {
   "cell_type": "code",
   "execution_count": 4,
   "metadata": {},
   "outputs": [
    {
     "data": {
      "text/html": [
       "<div>\n",
       "<style scoped>\n",
       "    .dataframe tbody tr th:only-of-type {\n",
       "        vertical-align: middle;\n",
       "    }\n",
       "\n",
       "    .dataframe tbody tr th {\n",
       "        vertical-align: top;\n",
       "    }\n",
       "\n",
       "    .dataframe thead th {\n",
       "        text-align: right;\n",
       "    }\n",
       "</style>\n",
       "<table border=\"1\" class=\"dataframe\">\n",
       "  <thead>\n",
       "    <tr style=\"text-align: right;\">\n",
       "      <th></th>\n",
       "      <th>Date/Time</th>\n",
       "      <th>LV ActivePower (kW)</th>\n",
       "      <th>Wind Speed (m/s)</th>\n",
       "      <th>Theoretical_Power_Curve (KWh)</th>\n",
       "      <th>Wind Direction (°)</th>\n",
       "    </tr>\n",
       "  </thead>\n",
       "  <tbody>\n",
       "    <tr>\n",
       "      <th>0</th>\n",
       "      <td>01 01 2018 00:00</td>\n",
       "      <td>380.047791</td>\n",
       "      <td>5.311336</td>\n",
       "      <td>416.328908</td>\n",
       "      <td>259.994904</td>\n",
       "    </tr>\n",
       "    <tr>\n",
       "      <th>1</th>\n",
       "      <td>01 01 2018 00:10</td>\n",
       "      <td>453.769196</td>\n",
       "      <td>5.672167</td>\n",
       "      <td>519.917511</td>\n",
       "      <td>268.641113</td>\n",
       "    </tr>\n",
       "    <tr>\n",
       "      <th>2</th>\n",
       "      <td>01 01 2018 00:20</td>\n",
       "      <td>306.376587</td>\n",
       "      <td>5.216037</td>\n",
       "      <td>390.900016</td>\n",
       "      <td>272.564789</td>\n",
       "    </tr>\n",
       "  </tbody>\n",
       "</table>\n",
       "</div>"
      ],
      "text/plain": [
       "          Date/Time  LV ActivePower (kW)  Wind Speed (m/s)  \\\n",
       "0  01 01 2018 00:00           380.047791          5.311336   \n",
       "1  01 01 2018 00:10           453.769196          5.672167   \n",
       "2  01 01 2018 00:20           306.376587          5.216037   \n",
       "\n",
       "   Theoretical_Power_Curve (KWh)  Wind Direction (°)  \n",
       "0                     416.328908          259.994904  \n",
       "1                     519.917511          268.641113  \n",
       "2                     390.900016          272.564789  "
      ]
     },
     "execution_count": 4,
     "metadata": {},
     "output_type": "execute_result"
    }
   ],
   "source": [
    "data = pd.read_csv('T1.csv')\n",
    "data.head(3)"
   ]
  },
  {
   "cell_type": "code",
   "execution_count": 15,
   "metadata": {},
   "outputs": [],
   "source": [
    "train_size = int(0.9*len(data))\n",
    "valid_size = int(0.1*len(data))\n",
    "train = data.iloc[:train_size, :]\n",
    "valid = data.iloc[train_size:, :]"
   ]
  },
  {
   "cell_type": "code",
   "execution_count": 23,
   "metadata": {},
   "outputs": [],
   "source": [
    "x_train_speed, y_train_speed = transform_data(train['Wind Speed (m/s)'].tolist(), seq_len = 20)\n",
    "x_valid_speed, y_valid_speed = transform_data(valid['Wind Speed (m/s)'].tolist(), seq_len = 20)"
   ]
  },
  {
   "cell_type": "code",
   "execution_count": 24,
   "metadata": {},
   "outputs": [
    {
     "name": "stdout",
     "output_type": "stream",
     "text": [
      "x_train: torch.Size([45457, 20])\n",
      "y_train: torch.Size([45457, 1])\n",
      "x_valid: torch.Size([5033, 20])\n",
      "y_valid: torch.Size([5033, 1])\n"
     ]
    }
   ],
   "source": [
    "print(f'x_train: {x_train_speed.shape}')\n",
    "print(f'y_train: {y_train_speed.shape}')\n",
    "print(f'x_valid: {x_valid_speed.shape}')\n",
    "print(f'y_valid: {y_valid_speed.shape}')"
   ]
  },
  {
   "cell_type": "code",
   "execution_count": 25,
   "metadata": {},
   "outputs": [],
   "source": [
    "x_train_dir, y_train_dir = transform_data(train['Wind Direction (°)'].tolist(), seq_len = 20)\n",
    "x_valid_dir, y_valid_dir = transform_data(valid['Wind Direction (°)'].tolist(), seq_len = 20)"
   ]
  },
  {
   "cell_type": "code",
   "execution_count": 26,
   "metadata": {},
   "outputs": [
    {
     "name": "stdout",
     "output_type": "stream",
     "text": [
      "Direction:\n",
      "x_train: torch.Size([45457, 20])\n",
      "y_train: torch.Size([45457, 1])\n",
      "x_valid: torch.Size([5033, 20])\n",
      "y_valid: torch.Size([5033, 1])\n"
     ]
    }
   ],
   "source": [
    "print('Direction:')\n",
    "print(f'x_train: {x_train_dir.shape}')\n",
    "print(f'y_train: {y_train_dir.shape}')\n",
    "print(f'x_valid: {x_valid_dir.shape}')\n",
    "print(f'y_valid: {y_valid_dir.shape}')"
   ]
  },
  {
   "cell_type": "code",
   "execution_count": 27,
   "metadata": {},
   "outputs": [],
   "source": [
    "x_train_dir = (x_train_dir/360).unsqueeze(-1)\n",
    "x_valid_dir = (x_valid_dir/360).unsqueeze(-1)\n",
    "y_train_dir = y_train_dir/360\n",
    "y_valid_dir = y_valid_dir/360"
   ]
  },
  {
   "cell_type": "code",
   "execution_count": 28,
   "metadata": {},
   "outputs": [],
   "source": [
    "x_train_speed = (x_train_speed/25).unsqueeze(-1)\n",
    "x_valid_speed = (x_valid_speed/25).unsqueeze(-1)\n",
    "y_valid_speed = y_valid_speed/25\n",
    "y_train_speed = y_train_speed/25"
   ]
  },
  {
   "cell_type": "code",
   "execution_count": 29,
   "metadata": {},
   "outputs": [],
   "source": [
    "x_train = torch.stack([x_train_speed, x_train_dir], dim = 2).squeeze()\n",
    "x_valid = torch.stack([x_valid_speed, x_valid_dir], dim = 2).squeeze()\n",
    "y_train = torch.stack([y_train_speed, y_train_dir], dim = 1).squeeze()\n",
    "y_valid = torch.stack([y_valid_speed, y_valid_dir], dim = 1).squeeze()"
   ]
  },
  {
   "cell_type": "code",
   "execution_count": 30,
   "metadata": {},
   "outputs": [
    {
     "data": {
      "text/plain": [
       "torch.Size([45457, 2])"
      ]
     },
     "execution_count": 30,
     "metadata": {},
     "output_type": "execute_result"
    }
   ],
   "source": [
    "y_train.shape"
   ]
  },
  {
   "cell_type": "code",
   "execution_count": 31,
   "metadata": {},
   "outputs": [],
   "source": [
    "class LSTM(nn.Module):\n",
    "    def __init__(self, input_dim = 2, hidden_dim = 100, num_layers = 2, output_dim = 2 , device = torch.device('cuda' if torch.cuda.is_available() else 'cpu')):\n",
    "        super(LSTM, self).__init__()\n",
    "        # Hidden dimensions\n",
    "        self.hidden_dim = hidden_dim\n",
    "\n",
    "        # Number of hidden layers\n",
    "        self.num_layers = num_layers\n",
    "        self.device = device\n",
    "        # Building your LSTM\n",
    "        # batch_first=True causes input/output tensors to be of shape\n",
    "        # (batch_dim, seq_dim, feature_dim)\n",
    "        self.lstm = nn.LSTM(input_dim, hidden_dim, num_layers, batch_first=True)\n",
    "\n",
    "        # Readout layer\n",
    "        self.fc = nn.Linear(hidden_dim, output_dim)\n",
    "\n",
    "    def forward(self, x):\n",
    "        # Initialize hidden state with zeros\n",
    "        h0 = torch.zeros(self.num_layers, x.size(0), self.hidden_dim).to(self.device).requires_grad_()\n",
    "\n",
    "        # Initialize cell state\n",
    "        c0 = torch.zeros(self.num_layers, x.size(0), self.hidden_dim).to(self.device).requires_grad_()\n",
    "\n",
    "        # One time step\n",
    "        # We need to detach as we are doing truncated backpropagation through time (BPTT)\n",
    "        # If we don't, we'll backprop all the way to the start even after going through another batch\n",
    "        out, (hn, cn) = self.lstm(x, (h0.detach(), c0.detach()))\n",
    "\n",
    "        # Index hidden state of last time step\n",
    "        # out.size() --> 100, 28, 100\n",
    "        # out[:, -1, :] --> 100, 100 --> just want last time step hidden states! \n",
    "        out = self.fc(out[:, -1, :]) \n",
    "        # out.size() --> 100, 10\n",
    "        return out\n",
    "    "
   ]
  },
  {
   "cell_type": "code",
   "execution_count": 76,
   "metadata": {},
   "outputs": [],
   "source": [
    "state_dict = torch.load('/storage/WindHack/pytorch-logs/checkpoints/best_full.pth')\n",
    "model_dict = state_dict['model_state_dict']"
   ]
  },
  {
   "cell_type": "code",
   "execution_count": 77,
   "metadata": {},
   "outputs": [],
   "source": [
    "model = LSTM(input_dim = 2, hidden_dim = 100, num_layers = 2, output_dim = 2 )\n",
    "model.load_state_dict(model_dict)\n",
    "model = model.cuda()\n",
    "loss_fn = nn.MSELoss()\n",
    "train_data = TensorDataset(x_train, y_train)\n",
    "valid_data = TensorDataset(x_valid, y_valid)\n",
    "loaders = {   'train': DataLoader(train_data, shuffle = True, batch_size = 5000, num_workers = 4),\n",
    "              'valid' : DataLoader(valid_data, shuffle = False, batch_size = 5000, num_workers = 4)}\n",
    "optimizer = torch.optim.Adam(model.parameters(), lr = 1e-2)\n",
    "scheduler= torch.optim.lr_scheduler.ReduceLROnPlateau(optimizer, patience = 10, factor = 0.5)"
   ]
  },
  {
   "cell_type": "code",
   "execution_count": 78,
   "metadata": {
    "scrolled": true
   },
   "outputs": [],
   "source": [
    "# runner = Runner()\n",
    "# runner.train(model =  model.cuda(), \n",
    "#              criterion = loss_fn, \n",
    "#              optimizer = optimizer, \n",
    "#              loaders = loaders, \n",
    "#              scheduler = scheduler, \n",
    "#              logdir = 'pytorch-logs', \n",
    "#              num_epochs= 5000, \n",
    "#              verbose = True, \n",
    "#              load_best_on_end =True\n",
    "#             )"
   ]
  },
  {
   "cell_type": "code",
   "execution_count": 28,
   "metadata": {},
   "outputs": [
    {
     "name": "stdout",
     "output_type": "stream",
     "text": [
      "TensorFlow installation not found - running with reduced feature set.\n",
      "Serving TensorBoard on localhost; to expose to the network, use a proxy or pass --bind_all\n",
      "TensorBoard 2.2.2 at http://localhost:6006/ (Press CTRL+C to quit)\n",
      "^C\n"
     ]
    }
   ],
   "source": [
    "!pip -q install tensorboard\n",
    "!tensorboard --logdir='pytorch-logs'\n"
   ]
  },
  {
   "cell_type": "code",
   "execution_count": 57,
   "metadata": {},
   "outputs": [],
   "source": []
  },
  {
   "cell_type": "code",
   "execution_count": 116,
   "metadata": {},
   "outputs": [
    {
     "data": {
      "text/plain": [
       "torch.Size([400, 2])"
      ]
     },
     "execution_count": 116,
     "metadata": {},
     "output_type": "execute_result"
    }
   ],
   "source": [
    "out = model(x_valid[100:500, :, :].cuda())\n",
    "\n",
    "out.shape"
   ]
  },
  {
   "cell_type": "code",
   "execution_count": 117,
   "metadata": {},
   "outputs": [
    {
     "data": {
      "text/plain": [
       "torch.Size([400, 2])"
      ]
     },
     "execution_count": 117,
     "metadata": {},
     "output_type": "execute_result"
    }
   ],
   "source": [
    "y_slice = y_valid[100:500, :]\n",
    "y_slice.shape"
   ]
  },
  {
   "cell_type": "code",
   "execution_count": 118,
   "metadata": {},
   "outputs": [
    {
     "data": {
      "image/png": "[encoded data removed]",
      "text/plain": [
       "<Figure size 432x288 with 1 Axes>"
      ]
     },
     "metadata": {
      "needs_background": "light"
     },
     "output_type": "display_data"
    }
   ],
   "source": [
    "plt.plot(np.arange(1, 401), out[:, 1].detach().cpu().numpy()*360, 'b')\n",
    "plt.plot(np.arange(1, 401), y_slice[:, 1].cpu().numpy()*360, 'g')\n",
    "plt.xlabel('Step')\n",
    "plt.ylabel('Speed (m/s)')\n",
    "plt.title('Performance on Validation')\n",
    "plt.savefig('val_dir.png')"
   ]
  },
  {
   "cell_type": "code",
   "execution_count": 97,
   "metadata": {},
   "outputs": [],
   "source": [
    "os.chdir('/storage/WindHack/')"
   ]
  },
  {
   "cell_type": "code",
   "execution_count": 108,
   "metadata": {},
   "outputs": [],
   "source": [
    "torch.save(model.state_dict(), 'weights.pth')"
   ]
  },
  {
   "cell_type": "code",
   "execution_count": 109,
   "metadata": {},
   "outputs": [
    {
     "name": "stdout",
     "output_type": "stream",
     "text": [
      "  File: weights.pth\n",
      "  Size: 491804    \tBlocks: 968        IO Block: 1048576 regular file\n",
      "Device: 47h/71d\tInode: 131258      Links: 1\n",
      "Access: (0644/-rw-r--r--)  Uid: (    0/    root)   Gid: (    0/    root)\n",
      "Access: 2020-06-10 15:25:04.371421591 +0000\n",
      "Modify: 2020-06-10 15:25:04.391421658 +0000\n",
      "Change: 2020-06-10 15:25:04.391421658 +0000\n",
      " Birth: -\n"
     ]
    }
   ],
   "source": [
    "!stat weights.pth"
   ]
  },
  {
   "cell_type": "code",
   "execution_count": 121,
   "metadata": {},
   "outputs": [],
   "source": [
    "inside  = torch.Tensor([1, 1]).view(1, 1, 2).cuda()"
   ]
  },
  {
   "cell_type": "code",
   "execution_count": 125,
   "metadata": {},
   "outputs": [
    {
     "data": {
      "text/plain": [
       "2"
      ]
     },
     "execution_count": 125,
     "metadata": {},
     "output_type": "execute_result"
    }
   ],
   "source": [
    "len(model.lstm(inside))"
   ]
  },
  {
   "cell_type": "code",
   "execution_count": null,
   "metadata": {},
   "outputs": [],
   "source": []
  }
 ],
 "metadata": {
  "kernelspec": {
   "display_name": "Python 3",
   "language": "python",
   "name": "python3"
  },
  "language_info": {
   "codemirror_mode": {
    "name": "ipython",
    "version": 3
   },
   "file_extension": ".py",
   "mimetype": "text/x-python",
   "name": "python",
   "nbconvert_exporter": "python",
   "pygments_lexer": "ipython3",
   "version": "3.6.8"
  }
 },
 "nbformat": 4,
 "nbformat_minor": 4
}
